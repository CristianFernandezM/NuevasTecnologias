{
 "cells": [
  {
   "cell_type": "markdown",
   "metadata": {},
   "source": [
    "# PRÁCTICA 9 - Modelo de Preferential Attachment\n",
    "\n",
    "**Objetivo**\n",
    "El objetivo de esta práctica es implementar el modelo de preferential attachement propuesto por Barabási y Albert, y estudiar su distribución de grado\n"
   ]
  }
 ],
 "metadata": {
  "language_info": {
   "name": "python"
  }
 },
 "nbformat": 4,
 "nbformat_minor": 2
}
