{
 "cells": [
  {
   "cell_type": "markdown",
   "metadata": {},
   "source": [
    "# Práctica 6 - Modularidad e Identificación de Comunidades\n",
    "\n",
    "## Objetivo\n",
    "En esta práctica se propone implementar en una función para el cálculo de la modularidad de una red, y posteriormente implementar el algoritmo de Girvan-Newman para la partición de una red mediante la eliminación sucesiva de los enlaces de mayor betweenness.\n",
    "## 1 Modularidad\n",
    "### 1.1 Implementar una función que calcula la modularidad de una red no dirigida para una partición de los nodos propuesta. \n",
    "La función tendrá como argumentos de entrada:\n",
    "- Un objeto Graph (Networkx)\n",
    "- Un diccionario con la partición, e.g. { ‘node1’: c1, ‘node2’:c2, …}\n",
    "\n"
   ]
  },
  {
   "cell_type": "code",
   "execution_count": 4,
   "metadata": {},
   "outputs": [],
   "source": [
    "#Imports\n",
    "import networkx as nx\n",
    "from itertools import product\n",
    "from networkx.algorithms import community\n",
    "\n",
    "import numpy as np\n",
    "import matplotlib.pyplot as plt"
   ]
  },
  {
   "cell_type": "markdown",
   "metadata": {},
   "source": [
    "Función que calcula la modularidad de una red ND para una particion de nodos."
   ]
  },
  {
   "cell_type": "code",
   "execution_count": 5,
   "metadata": {},
   "outputs": [],
   "source": [
    "def calcularModularidad(red, diccionario):\n",
    "    Q = 0\n",
    "\n",
    "    nx.set_edge_attributes(red, {e:1 for e in red.edges}, 'peso')\n",
    "\n",
    "    A = nx.to_scipy_sparse_matrix(red).astype(float)\n",
    "\n",
    "    out_degree = in_degree = dict(nx.degree(red))\n",
    "    m = red.number_of_edges()\n",
    "    nodos = list(red)\n",
    "\n",
    "    for i, j in product(range(len(nodos)),range(len(nodos))):\n",
    "        if(diccionario[nodos[i]] == diccionario[nodos[j]]):\n",
    "            Q += np.sum(A[i,j] - (out_degree[nodos[i]]*in_degree[nodos[j]]/(2*m)))\n",
    "    \n",
    "    return Q/(2*m)\n",
    "\n"
   ]
  },
  {
   "cell_type": "markdown",
   "metadata": {},
   "source": [
    "### 1.2 Comprobar el valor de la modularidad para los siguientes ejemplos:\n",
    "##### 1 Ejemplo de Wikipedia \n",
    "Modularidad de la partición de colores = 0.4896\n"
   ]
  },
  {
   "cell_type": "code",
   "execution_count": 6,
   "metadata": {},
   "outputs": [],
   "source": [
    "def definicionGrafo():\n",
    "    # Creamos el grafo de la red de contactos propuesta\n",
    "    G = nx.Graph()\n",
    "    # Agregamos los nodos\n",
    "    G.add_edges_from([(1,2),(1,3),(3,2),(1,4),(4,5),(5,6),(6,7),(7,5),(4,8),(8,9),(9,10),(10,8)])\n",
    "\n",
    "\n",
    "    # Creamos el diccionario de nodos\n",
    "    nodos = list(G)\n",
    "    diccionario = {}\n",
    "    for e in nodos:\n",
    "        if e <= 4:\n",
    "            diccionario[e] = 1\n",
    "        elif 5 <= e <= 8:\n",
    "            diccionario[e] = 2\n",
    "        else:\n",
    "            diccionario[e] = 3\n",
    "\n",
    "    return G, diccionario"
   ]
  },
  {
   "cell_type": "code",
   "execution_count": 7,
   "metadata": {},
   "outputs": [
    {
     "name": "stderr",
     "output_type": "stream",
     "text": [
      "C:\\Users\\Usuario\\AppData\\Local\\Temp\\ipykernel_2408\\3533271965.py:6: DeprecationWarning: \n",
      "\n",
      "The scipy.sparse array containers will be used instead of matrices\n",
      "in Networkx 3.0. Use `to_scipy_sparse_array` instead.\n",
      "  A = nx.to_scipy_sparse_matrix(red).astype(float)\n"
     ]
    },
    {
     "ename": "AttributeError",
     "evalue": "module 'scipy.sparse' has no attribute 'coo_array'",
     "output_type": "error",
     "traceback": [
      "\u001b[1;31m---------------------------------------------------------------------------\u001b[0m",
      "\u001b[1;31mAttributeError\u001b[0m                            Traceback (most recent call last)",
      "Input \u001b[1;32mIn [7]\u001b[0m, in \u001b[0;36m<cell line: 8>\u001b[1;34m()\u001b[0m\n\u001b[0;32m      5\u001b[0m nx\u001b[38;5;241m.\u001b[39mdraw_networkx_nodes(red, pos, nodelist\u001b[38;5;241m=\u001b[39m[\u001b[38;5;241m1\u001b[39m,\u001b[38;5;241m2\u001b[39m,\u001b[38;5;241m3\u001b[39m,\u001b[38;5;241m4\u001b[39m], node_color\u001b[38;5;241m=\u001b[39m\u001b[38;5;124m'\u001b[39m\u001b[38;5;124mb\u001b[39m\u001b[38;5;124m'\u001b[39m, alpha\u001b[38;5;241m=\u001b[39m\u001b[38;5;241m0.5\u001b[39m)\n\u001b[0;32m      6\u001b[0m nx\u001b[38;5;241m.\u001b[39mdraw_networkx_nodes(red, pos, nodelist\u001b[38;5;241m=\u001b[39m[\u001b[38;5;241m5\u001b[39m,\u001b[38;5;241m6\u001b[39m,\u001b[38;5;241m7\u001b[39m], node_color\u001b[38;5;241m=\u001b[39m\u001b[38;5;124m'\u001b[39m\u001b[38;5;124mg\u001b[39m\u001b[38;5;124m'\u001b[39m, alpha\u001b[38;5;241m=\u001b[39m\u001b[38;5;241m0.5\u001b[39m)\n\u001b[1;32m----> 8\u001b[0m \u001b[38;5;28mprint\u001b[39m(\u001b[38;5;124m\"\u001b[39m\u001b[38;5;124mLa modularidad de la red es:\u001b[39m\u001b[38;5;124m\"\u001b[39m, \u001b[43mcalcularModularidad\u001b[49m\u001b[43m(\u001b[49m\u001b[43mred\u001b[49m\u001b[43m,\u001b[49m\u001b[43m \u001b[49m\u001b[43mnodos\u001b[49m\u001b[43m)\u001b[49m)\n",
      "Input \u001b[1;32mIn [5]\u001b[0m, in \u001b[0;36mcalcularModularidad\u001b[1;34m(red, diccionario)\u001b[0m\n\u001b[0;32m      2\u001b[0m Q \u001b[38;5;241m=\u001b[39m \u001b[38;5;241m0\u001b[39m\n\u001b[0;32m      4\u001b[0m nx\u001b[38;5;241m.\u001b[39mset_edge_attributes(red, {e:\u001b[38;5;241m1\u001b[39m \u001b[38;5;28;01mfor\u001b[39;00m e \u001b[38;5;129;01min\u001b[39;00m red\u001b[38;5;241m.\u001b[39medges}, \u001b[38;5;124m'\u001b[39m\u001b[38;5;124mpeso\u001b[39m\u001b[38;5;124m'\u001b[39m)\n\u001b[1;32m----> 6\u001b[0m A \u001b[38;5;241m=\u001b[39m \u001b[43mnx\u001b[49m\u001b[38;5;241;43m.\u001b[39;49m\u001b[43mto_scipy_sparse_matrix\u001b[49m\u001b[43m(\u001b[49m\u001b[43mred\u001b[49m\u001b[43m)\u001b[49m\u001b[38;5;241m.\u001b[39mastype(\u001b[38;5;28mfloat\u001b[39m)\n\u001b[0;32m      8\u001b[0m out_degree \u001b[38;5;241m=\u001b[39m in_degree \u001b[38;5;241m=\u001b[39m \u001b[38;5;28mdict\u001b[39m(nx\u001b[38;5;241m.\u001b[39mdegree(red))\n\u001b[0;32m      9\u001b[0m m \u001b[38;5;241m=\u001b[39m red\u001b[38;5;241m.\u001b[39mnumber_of_edges()\n",
      "File \u001b[1;32mc:\\Users\\Usuario\\anaconda3\\lib\\site-packages\\networkx\\convert_matrix.py:1019\u001b[0m, in \u001b[0;36mto_scipy_sparse_matrix\u001b[1;34m(G, nodelist, dtype, weight, format)\u001b[0m\n\u001b[0;32m   1009\u001b[0m \u001b[38;5;28;01mimport\u001b[39;00m \u001b[38;5;21;01mscipy\u001b[39;00m\u001b[38;5;21;01m.\u001b[39;00m\u001b[38;5;21;01msparse\u001b[39;00m\n\u001b[0;32m   1011\u001b[0m warnings\u001b[38;5;241m.\u001b[39mwarn(\n\u001b[0;32m   1012\u001b[0m     (\n\u001b[0;32m   1013\u001b[0m         \u001b[38;5;124m\"\u001b[39m\u001b[38;5;130;01m\\n\u001b[39;00m\u001b[38;5;130;01m\\n\u001b[39;00m\u001b[38;5;124mThe scipy.sparse array containers will be used instead of matrices\u001b[39m\u001b[38;5;130;01m\\n\u001b[39;00m\u001b[38;5;124m\"\u001b[39m\n\u001b[1;32m   (...)\u001b[0m\n\u001b[0;32m   1017\u001b[0m     stacklevel\u001b[38;5;241m=\u001b[39m\u001b[38;5;241m2\u001b[39m,\n\u001b[0;32m   1018\u001b[0m )\n\u001b[1;32m-> 1019\u001b[0m A \u001b[38;5;241m=\u001b[39m \u001b[43mto_scipy_sparse_array\u001b[49m\u001b[43m(\u001b[49m\n\u001b[0;32m   1020\u001b[0m \u001b[43m    \u001b[49m\u001b[43mG\u001b[49m\u001b[43m,\u001b[49m\u001b[43m \u001b[49m\u001b[43mnodelist\u001b[49m\u001b[38;5;241;43m=\u001b[39;49m\u001b[43mnodelist\u001b[49m\u001b[43m,\u001b[49m\u001b[43m \u001b[49m\u001b[43mdtype\u001b[49m\u001b[38;5;241;43m=\u001b[39;49m\u001b[43mdtype\u001b[49m\u001b[43m,\u001b[49m\u001b[43m \u001b[49m\u001b[43mweight\u001b[49m\u001b[38;5;241;43m=\u001b[39;49m\u001b[43mweight\u001b[49m\u001b[43m,\u001b[49m\u001b[43m \u001b[49m\u001b[38;5;28;43mformat\u001b[39;49m\u001b[38;5;241;43m=\u001b[39;49m\u001b[38;5;28;43mformat\u001b[39;49m\n\u001b[0;32m   1021\u001b[0m \u001b[43m\u001b[49m\u001b[43m)\u001b[49m\n\u001b[0;32m   1022\u001b[0m \u001b[38;5;28;01mreturn\u001b[39;00m sp\u001b[38;5;241m.\u001b[39msparse\u001b[38;5;241m.\u001b[39mcsr_matrix(A)\u001b[38;5;241m.\u001b[39masformat(\u001b[38;5;28mformat\u001b[39m)\n",
      "File \u001b[1;32mc:\\Users\\Usuario\\anaconda3\\lib\\site-packages\\networkx\\convert_matrix.py:921\u001b[0m, in \u001b[0;36mto_scipy_sparse_array\u001b[1;34m(G, nodelist, dtype, weight, format)\u001b[0m\n\u001b[0;32m    919\u001b[0m         r \u001b[38;5;241m+\u001b[39m\u001b[38;5;241m=\u001b[39m diag_index\n\u001b[0;32m    920\u001b[0m         c \u001b[38;5;241m+\u001b[39m\u001b[38;5;241m=\u001b[39m diag_index\n\u001b[1;32m--> 921\u001b[0m     A \u001b[38;5;241m=\u001b[39m \u001b[43msp\u001b[49m\u001b[38;5;241;43m.\u001b[39;49m\u001b[43msparse\u001b[49m\u001b[38;5;241;43m.\u001b[39;49m\u001b[43mcoo_array\u001b[49m((d, (r, c)), shape\u001b[38;5;241m=\u001b[39m(nlen, nlen), dtype\u001b[38;5;241m=\u001b[39mdtype)\n\u001b[0;32m    922\u001b[0m \u001b[38;5;28;01mtry\u001b[39;00m:\n\u001b[0;32m    923\u001b[0m     \u001b[38;5;28;01mreturn\u001b[39;00m A\u001b[38;5;241m.\u001b[39masformat(\u001b[38;5;28mformat\u001b[39m)\n",
      "\u001b[1;31mAttributeError\u001b[0m: module 'scipy.sparse' has no attribute 'coo_array'"
     ]
    },
    {
     "data": {
      "image/png": "[encoded data removed]",
      "text/plain": [
       "<Figure size 432x288 with 1 Axes>"
      ]
     },
     "metadata": {},
     "output_type": "display_data"
    }
   ],
   "source": [
    "red, nodos = definicionGrafo()\n",
    "\n",
    "pos = nx.fruchterman_reingold_layout(red,k=0.25)\n",
    "nx.draw(red, pos, with_labels=True, node_color='r', alpha=0.5)\n",
    "nx.draw_networkx_nodes(red, pos, nodelist=[1,2,3,4], node_color='b', alpha=0.5)\n",
    "nx.draw_networkx_nodes(red, pos, nodelist=[5,6,7], node_color='g', alpha=0.5)\n",
    "\n",
    "print(\"La modularidad de la red es:\", calcularModularidad(red, nodos))"
   ]
  },
  {
   "cell_type": "markdown",
   "metadata": {},
   "source": [
    "##### 2 Ejemplo de clase #####"
   ]
  },
  {
   "cell_type": "code",
   "execution_count": null,
   "metadata": {},
   "outputs": [
    {
     "data": {
      "image/png": "[encoded data removed]",
      "text/plain": [
       "<Figure size 432x288 with 1 Axes>"
      ]
     },
     "metadata": {},
     "output_type": "display_data"
    }
   ],
   "source": [
    "def definicionGrafo2():\n",
    "    G = nx.Graph()\n",
    "    G.add_edges_from([(1,2),(1,3),(1,4),(2,3),(2,4),(3,4),(4,5),(5,6),(5,7),(5,8),(6,7),(6,8),(7,8)])\n",
    "    pos = nx.fruchterman_reingold_layout(G,k=0.25)\n",
    "    nx.draw(G, pos, with_labels=True, node_color='g', alpha=0.5)\n",
    "    nx.draw_networkx_nodes(G, pos, nodelist=[1,2,3,4], node_color='b', alpha=0.5)\n",
    "\n",
    "    return G\n",
    "\n",
    "red2 = definicionGrafo2()"
   ]
  },
  {
   "cell_type": "markdown",
   "metadata": {},
   "source": [
    "1. Para una partición correspondiente a toda la red (modularidad = 0)"
   ]
  },
  {
   "cell_type": "code",
   "execution_count": null,
   "metadata": {},
   "outputs": [],
   "source": [
    "nodos = list(red2)\n",
    "diccionario = {}\n",
    "for e in nodos:\n",
    "    diccionario[e] = 1\n",
    "\n",
    "print(\"La modularidad es:\", calcularModularidad(red2, diccionario))"
   ]
  },
  {
   "cell_type": "markdown",
   "metadata": {},
   "source": [
    "2. Para una partición correspondiente a cada nodo (modularidad = -0.1272)"
   ]
  },
  {
   "cell_type": "code",
   "execution_count": null,
   "metadata": {},
   "outputs": [],
   "source": [
    "diccionario2 = {}\n",
    "num = 1\n",
    "for e in nodos:\n",
    "    diccionario2[e] = num\n",
    "    num += 1   \n",
    "\n",
    "print(\"La modularidad es:\", calcularModularidad(red2, diccionario2))"
   ]
  },
  {
   "cell_type": "markdown",
   "metadata": {},
   "source": [
    "3. Para la partición de colores (modularidad = 0.4231)"
   ]
  },
  {
   "cell_type": "code",
   "execution_count": null,
   "metadata": {},
   "outputs": [],
   "source": [
    "diccionario3 = {}\n",
    "for e in nodos:\n",
    "    if e <= 4:\n",
    "        diccionario3[e] = 1\n",
    "    else:\n",
    "        diccionario3[e] = 2\n",
    "\n",
    "print(\"La modularidad es:\", calcularModularidad(red2, diccionario3))"
   ]
  },
  {
   "cell_type": "markdown",
   "metadata": {},
   "source": [
    "## 2 Detección de comunidades basada en la eliminación de enlaces\n",
    "### 2.1 Implementar la detección de comunidades basada en la eliminación recursiva de enlaces “shortest-path betweenness” propuesta por Newman y Girvan"
   ]
  },
  {
   "cell_type": "code",
   "execution_count": null,
   "metadata": {},
   "outputs": [],
   "source": [
    "# Eliminamos los bordes\n",
    "# Calculamos el edge betweenness\n",
    "def eliminarBordes(G):\n",
    "    conectados = nx.number_connected_components(G)\n",
    "    ncomponentes = conectados\n",
    "    while ncomponentes <= conectados:\n",
    "        centralidadIn = nx.edge_betweenness_centrality(G,weight='peso')\n",
    "\n",
    "        # Buscamos el borde con mayor centralidad\n",
    "        maximo = max(centralidadIn.values())\n",
    "\n",
    "        for j,i in centralidadIn.values():\n",
    "            if float(i) == maximo:\n",
    "                G.remove_edge(j[0],j[1])\n",
    "        \n",
    "        ncomponentes = nx.number_connected_components(G)"
   ]
  },
  {
   "cell_type": "code",
   "execution_count": null,
   "metadata": {},
   "outputs": [],
   "source": [
    "# Calculamos la modularidad de la partición\n",
    "def calcularModularidadGirvanNewman(G,diccionario,peso):\n",
    "    nuevaMatrix = nx.adj_matrix(G)\n",
    "    diccAuxiliar = {}\n",
    "    diccAuxiliar = actualizarDicc(nuevaMatrix, G.nodes())\n",
    "\n",
    "    # Calculamos la modularidad\n",
    "    Q = 0\n",
    "    comp = nx.connected_components(G) # Lista de componentes\n",
    "    for e in comp:\n",
    "        bordesSinComunidad = 0\n",
    "        bordesAl = 0\n",
    "        for i in e: \n",
    "            bordesSinComunidad += diccAuxiliar[i]\n",
    "            bordesAl += diccionario[i]\n",
    "        Q += (float(bordesSinComunidad) - float(bordesAl*bordesAl)/float(2*peso))\n",
    "    Q = Q/float(2*peso)\n",
    "    return Q"
   ]
  },
  {
   "cell_type": "code",
   "execution_count": null,
   "metadata": {},
   "outputs": [],
   "source": [
    "# Actualizamos el diccionario\n",
    "def actualizarDicc(A,nodos):\n",
    "    dicc = {}\n",
    "    B = A.sum(axis=1)  \n",
    "    i = 0\n",
    "    for nodo in list(nodos):\n",
    "        dicc[nodo] = B[i,0]\n",
    "        i += 1\n",
    "    return dicc"
   ]
  },
  {
   "cell_type": "code",
   "execution_count": null,
   "metadata": {},
   "outputs": [],
   "source": [
    "# Ejecutamos el algoritmo\n",
    "def ejecutarGirvanNewman(G, diccionario, peso):\n",
    "    diccModularidad = {}\n",
    "    mejorParticion = 0\n",
    "    maxModularidad = 0\n",
    "\n",
    "    # Variable para encontrar la mejor partición\n",
    "    maxModularidad = 0.0\n",
    "    Q = 0.0\n",
    "    while True:\n",
    "        eliminarBordes(G)\n",
    "        Q = calcularModularidadGirvanNewman(G,diccionario,peso)\n",
    "        if G.number_of_edges() == 0:\n",
    "            break\n",
    "\n",
    "    for key, value in diccModularidad.items():\n",
    "        if value > maxModularidad:\n",
    "            maxModularidad = value\n",
    "            mejorParticion = key\n",
    "    \n",
    "    return diccModularidad, mejorParticion\n",
    "       "
   ]
  },
  {
   "cell_type": "markdown",
   "metadata": {},
   "source": [
    "Mostrar un gráfico con la modularidad vs el número de particiones"
   ]
  },
  {
   "cell_type": "code",
   "execution_count": null,
   "metadata": {},
   "outputs": [
    {
     "ename": "NameError",
     "evalue": "name 'diccModularidad' is not defined",
     "output_type": "error",
     "traceback": [
      "\u001b[1;31m---------------------------------------------------------------------------\u001b[0m",
      "\u001b[1;31mNameError\u001b[0m                                 Traceback (most recent call last)",
      "Input \u001b[1;32mIn [3]\u001b[0m, in \u001b[0;36m<cell line: 4>\u001b[1;34m()\u001b[0m\n\u001b[0;32m      1\u001b[0m particiones \u001b[38;5;241m=\u001b[39m []\n\u001b[0;32m      2\u001b[0m modularidad \u001b[38;5;241m=\u001b[39m []\n\u001b[1;32m----> 4\u001b[0m \u001b[38;5;28;01mfor\u001b[39;00m key, value \u001b[38;5;129;01min\u001b[39;00m \u001b[43mdiccModularidad\u001b[49m\u001b[38;5;241m.\u001b[39mitems():\n\u001b[0;32m      5\u001b[0m     particiones\u001b[38;5;241m.\u001b[39mappend(key)\n\u001b[0;32m      6\u001b[0m     modularidad\u001b[38;5;241m.\u001b[39mappend(value)\n",
      "\u001b[1;31mNameError\u001b[0m: name 'diccModularidad' is not defined"
     ]
    }
   ],
   "source": [
    "particiones = []\n",
    "modularidad = []\n",
    "\n",
    "for key, value in diccModularidad.items():\n",
    "    particiones.append(key)\n",
    "    modularidad.append(value)\n",
    "\n",
    "fig, ax = plt.subplots()\n",
    "ax.set_xlabel('Particiones')\n",
    "ax.set_ylabel('Modularidad')\n",
    "ax.plot(particiones, modularidad)\n",
    "ax.grid(axis = 'x', color = 'gray')\n",
    "plt.show()"
   ]
  },
  {
   "cell_type": "markdown",
   "metadata": {},
   "source": [
    "### 2.2 Comprobar el algoritmo de detección de comunidades anterior con la red “Zachary’s karate club” que se encuentra dentro de la librería de Networkx.\n"
   ]
  },
  {
   "cell_type": "code",
   "execution_count": null,
   "metadata": {},
   "outputs": [],
   "source": [
    "G = nx.karate_club_graph()\n",
    "n = G.number_of_nodes()\n",
    "A = nx.adj_matrix(G)\n",
    "\n",
    "# Peso de los bordes\n",
    "peso = 0.0\n",
    "for i in range(0, n):\n",
    "    for j in range(0, n):\n",
    "        peso += A[i,j]\n",
    "peso = peso/2.0\n",
    "\n",
    "# Grafo de cada nodo\n",
    "diccionario = actualizarDicc(A, G.nodes())\n",
    "\n",
    "# Ejecutamos el algoritmo\n",
    "diccModularidad, mejorParticion = ejecutarGirvanNewman(G, diccionario, peso)\n",
    "\n",
    "print(\"La particion con maximo valor de modularidad es:\", mejorParticion, \" y una modularidad de: \", diccModularidad[mejorParticion])"
   ]
  },
  {
   "cell_type": "markdown",
   "metadata": {},
   "source": [
    "Mostrar un gráfico con la modularidad vs el número de divisiones"
   ]
  },
  {
   "cell_type": "code",
   "execution_count": null,
   "metadata": {},
   "outputs": [],
   "source": [
    "divisiones = []\n",
    "modularidad = []\n",
    "\n",
    "for key, value in diccModularidad.items():\n",
    "    divisiones.append(key)\n",
    "    modularidad.append(value)\n",
    "\n",
    "fig, ax = plt.subplots()\n",
    "ax.set_xlabel('Divisiones')\n",
    "ax.set_ylabel('Modularidad')\n",
    "ax.plot(divisiones, modularidad)\n",
    "ax.grid(axis = 'x', color = 'gray')\n",
    "plt.show()"
   ]
  }
 ],
 "metadata": {
  "kernelspec": {
   "display_name": "base",
   "language": "python",
   "name": "python3"
  },
  "language_info": {
   "codemirror_mode": {
    "name": "ipython",
    "version": 3
   },
   "file_extension": ".py",
   "mimetype": "text/x-python",
   "name": "python",
   "nbconvert_exporter": "python",
   "pygments_lexer": "ipython3",
   "version": "3.9.12"
  }
 },
 "nbformat": 4,
 "nbformat_minor": 2
}
