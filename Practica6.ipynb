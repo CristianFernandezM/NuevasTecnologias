{
 "cells": [
  {
   "cell_type": "markdown",
   "metadata": {},
   "source": [
    "# Práctica 6 - Modularidad e Identificación de Comunidades\n",
    "\n",
    "## Objetivo\n",
    "En esta práctica se propone implementar en una función para el cálculo de la modularidad de una red, y posteriormente implementar el algoritmo de Girvan-Newman para la partición de una red mediante la eliminación sucesiva de los enlaces de mayor betweenness.\n",
    "## 1 Modularidad\n",
    "### 1.1 Implementar una función que calcula la modularidad de una red no dirigida para una partición de los nodos propuesta. \n",
    "La función tendrá como argumentos de entrada:\n",
    "- Un objeto Graph (Networkx)\n",
    "- Un diccionario con la partición, e.g. { ‘node1’: c1, ‘node2’:c2, …}\n",
    "\n"
   ]
  },
  {
   "cell_type": "code",
   "execution_count": null,
   "metadata": {},
   "outputs": [],
   "source": [
    "#Imports\n",
    "import networks as nx \n",
    "from itertools import product\n",
    "from networkx.algorithms import community\n",
    "\n",
    "import numpy as np\n",
    "import matplotlib.pyplot as plt"
   ]
  },
  {
   "cell_type": "markdown",
   "metadata": {},
   "source": [
    "Función que calcula la modularidad de una red ND para una particion de nodos."
   ]
  },
  {
   "cell_type": "code",
   "execution_count": null,
   "metadata": {},
   "outputs": [],
   "source": [
    "def calcularModularidad(red, diccionario):\n",
    "    Q = 0\n",
    "\n",
    "    nx.set_edge_attributes(red, {e:1 for e in red.edges}, 'peso')\n",
    "\n",
    "    A = nx.to_scipy_sparse_matrix(red).astype(float)\n",
    "\n",
    "    out_degree = in_degree = dict(nx.degree(red))\n",
    "    m = red.number_of_edges()\n",
    "    nodos = list(red)\n",
    "\n",
    "    for i, j in product(range(len(nodos)),range(len(nodos))):\n",
    "        if(diccionario[nodos[i]] == diccionario[nodos[j]]):\n",
    "            Q += np.sum(A[i,j] - (out_degree[nodos[i]]*in_degree[nodos[j]]/(2*m)))\n",
    "    \n",
    "    return Q/(2*m)\n",
    "\n"
   ]
  },
  {
   "cell_type": "markdown",
   "metadata": {},
   "source": [
    "### 1.2 Comprobar el valor de la modularidad para los siguientes ejemplos:\n",
    "Ejemplo de Wikipedia (modularidad de la partición de colores = 0.4896)\n"
   ]
  },
  {
   "cell_type": "code",
   "execution_count": null,
   "metadata": {},
   "outputs": [],
   "source": [
    "def definicionGrafo():\n",
    "    # Creamos el grafo de la red de contactos propuesta\n",
    "    G = nx.Graph()\n",
    "    # Agregamos los nodos\n",
    "    G.add_edges_from([(1,2),(1,3),(3,2),(1,4),(4,5),(5,6),(6,7),(7,5),(4,8),(8,9),(9,10),(10,8)])\n",
    "\n",
    "\n",
    "    # Creamos el diccionario de nodos\n",
    "    nodos = list(G)\n",
    "    diccionario = {}\n",
    "    for e in nodos:\n",
    "        if e <= 4:\n",
    "            diccionario[e] = 1\n",
    "        elif 5 <= e <= 8:\n",
    "            diccionario[e] = 2\n",
    "        else:\n",
    "            diccionario[e] = 3\n",
    "\n",
    "    return G, diccionario"
   ]
  }
 ],
 "metadata": {
  "language_info": {
   "name": "python"
  }
 },
 "nbformat": 4,
 "nbformat_minor": 2
}
