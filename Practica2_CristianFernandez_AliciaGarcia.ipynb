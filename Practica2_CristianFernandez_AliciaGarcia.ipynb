{
 "cells": [
  {
   "cell_type": "markdown",
   "metadata": {},
   "source": [
    "# Práctica 3 - Introducción a Network\n",
    "## Objetivo\n",
    "\n",
    "Deberá entregar un **notebook de Jupyter** con el título, nombre del autor y el código y resultados pedidos que se enumeran a continuación:\n",
    "\n",
    "1. Crear la red de la Figura 1:\n",
    "\n",
    "    1.1. Crear la siguiente red no dirigida\n",
    "\n",
    "    1.2. Calcular el número de nodos y el número de enlaces\n",
    "\n",
    "    1.3. Añadir a la red los siguientes atributos tipo string: (nombre=red1), (tipo=no-dirigida)\n",
    "\n",
    "    1.4. Visualizar la red utilizando un layout aleatorio con las etiquetas de los nodos.\n",
    "\n",
    "    1.5. Dado un nodo U, e.g. U=6, calcular los vecinos del nodo.\n",
    "\n",
    "    1.6. En la visualización de la red anterior, cambiar el color del nodo U y todos sus enlaces\n",
    " \n",
    "2. Comprensión de listas con Networkx\n",
    "\n",
    "    2.1. Mostrar la lista de los grados de los nodos ordenada de mayor a menor\n",
    "\n",
    "    2.2. Mostrar la lista de tuplas (nodo,grado) ordenada de mayor a menor por el grado\n",
    "\n",
    "    2.3. Mostrar los 3-nodos con mayor grado\n",
    "\n",
    "3. Trabajar con atributos de una red\n",
    "\n",
    "    3.1. A la red anterior, añadir un atributo ‘peso’ a cada enlace creado de acuerdo a una distribución uniforme discreta [1,10].\n",
    "\n",
    "    3.2. Mostrar todos los enlaces con peso mayor que un umbral W (variable escogida libremente por cada uno)\n",
    "\n",
    "    3.3. Mostrar la distribución de pesos ordenada de menor a mayor.\n",
    "\n",
    "    3.4. Visualizar la red utilizando un layout kamada_kawai, con las etiquetas de los nodos, siendo el tamaño de los nodos proporcional a su valor de su grado (multiplicado por 100 como factor de escala).\n",
    "\n",
    "    3.5. En la visualización anterior, cambiar el color de los 3 nodos de mayor grado.\n",
    "\n",
    "4. Importar una red\n",
    "\n",
    "    4.1. Importar la red social del club de karate Zachary (formato gml): http://www-personal.umich.edu/~mejn/netdata/  \n",
    "\n",
    "    4.2. Calcular el número de nodos y el número de enlaces.\n",
    "\n",
    "    4.3. Visualizar la red utilizando el layout que considere oportuno, con las etiquetas de los nodos, siendo el tamaño de los nodos proporcional a su valor de grado (multiplicado por 100 como factor de escala).\n",
    "\n",
    "5. Función “amigos mutuos”\n",
    "\n",
    "    5.1. Crear una función que tenga como argumentos un objeto grafo y los índices de dos nodos y devuelva una lista de los índices de los nodos vecinos comunes entre ellos (una lista vacía en el caso de que no tengan)\n",
    "\n"
   ]
  }
 ],
 "metadata": {
  "language_info": {
   "name": "python"
  }
 },
 "nbformat": 4,
 "nbformat_minor": 2
}
