{
 "cells": [
  {
   "cell_type": "markdown",
   "metadata": {},
   "source": [
    "# PRÁCTICA 7 - Distribuciones Power Law\n",
    "\n",
    "## 1. Distribución de grado\n",
    "La distribución de grado pk nos da la probabilidad de que tomado un nodo al azar tenga grado k. Si en una red de N nodos, Nk nodos tienen grado k entonces podemos definir pk:\n",
    "\n",
    "    pk=Nk/N\n",
    "\n",
    "Para la siguiente red de ejemplo 1 se muestra su distribución de grado (tabla y como histograma).\n",
    "\n",
    "En el caso de redes dirigidas, se definen dos distribuciones de grado, i.e. in-degree y out-degree."
   ]
  },
  {
   "cell_type": "markdown",
   "metadata": {},
   "source": [
    "## 2. Distribuciones Power Law\n",
    "\n",
    "El siguiente documento extraído del libro de Barabasi (2012) introduce el concepto de distribución power law en redes. Lea el documento y trate de contestar a las siguientes preguntas:\n",
    "\n",
    "### 2.1. Dadas las redes de la figura, ¿cuál de ellas presenta una propia scale-free?\n",
    "\n",
    "La red morada, es la red con scale-free, ya que la distribucion de grados sigue una ley de potencia (Power Law), y esto lo podemos observar en la gráfica donde la red morada tiene una relacion funcional.\n",
    "\n",
    "### 2.2. De los siguientes mecanismos, ¿cuál de ellos podría generar propiedad scale-free con más probabilidad?\n",
    "\n",
    "* Un usuario crea una página web y añade un enlace a la página de un amigo.\n",
    "\n",
    "* Un usuario crea una página web y añade un enlace a la página que le proporciona el primer resultado de la búsqueda en Google.\n",
    "\n",
    "El segundo mecanismo, ya que el primer resultado de una búsqueda en Google está altamente conectado a otras redes, por lo que posee un gran número de enlaces.\n",
    "\n"
   ]
  },
  {
   "cell_type": "markdown",
   "metadata": {},
   "source": [
    "## 3. Estudio de la distribucion de grado de una red\n",
    "\n",
    "A continuación vamos a estudiar la distribución de grado de una red de routers de Internet mediante la librería Networkx de python. La librería Networkx no es apropiada para dibujar redes muy grandes como ésta, por lo tanto no intente visualizar la red completa.\n",
    "\n",
    "El objetivo es comprobar que la distribución de grado de la red responde a una power law y tratar de encontrar el parámetro que la define. Veremos dos técnicas distintas.\n",
    "\n",
    "### 3.1 Estadísticas\n",
    "Calcule las siguientes estadísticas de la red:\n",
    "* Número de nodos\n",
    "* Número de enlaces\n",
    "* Grado medio\n",
    "* Grado máximo\n",
    "* Grado mínimo\n",
    "\n",
    "### 3.2 Histograma\n",
    "Dibuje un histograma de la distribución de grado de la red. Dada una red, la probabilidad de encontrar un nodo con grado k se define como pk=Nk/N (siendo Nk el número de nodos con grado k). Le será útil la función: \n",
    "\n",
    "    matplotlib.pyplot.hist(x, bins, normed)\n",
    "\n",
    "Cambie la escala de los ejes de lineal a logarítmica (ver funciones matplotlib.pyplot.yscale y xscale) y decida con qué escala se visualiza mejor la distribución de grado de esta red. Si la distribución muestra un significativo comportamiento lineal cuando la representamos en escala logarítmica, es probable que sea una distribución de power law.\n",
    "\n",
    "### 3.3. Histograma con clase variable logarítmica\n",
    "El histograma anterior supone un tamaño de clase constante.\n",
    "\n",
    "Pero si la distribución de grado es power law, utilizar clases constantes puede producir ruido puesto que algunas de ellas, por ejemplo las de mayor grado, tienen muy pocos datos. \n",
    "\n",
    "Para resolver este problema podemos utilizar un tamaño de clase variable. Por ejemplo, una calse variable logarítmica.\n",
    "\n",
    "tal que el tamaño de la n-ésima clase sea:\n",
    "\n",
    "    2^n-1 > k > 2^n\n",
    "\n",
    "Debemos normalizar la frecuencia del número de nodos que caen en cada clase dividiéndola por el tamaño de la clase correspondiente, que para la clase n-ésima sería:\n",
    "\n",
    "    2^n - 2^(n-1)\n",
    "\n",
    "Dibuje un nuevo histograma con clase variable logarítmica. En vez de utilizar la función matplotlib.hist que calcula y representa gráficamente un histograma, puede utilizar la función:\n",
    "\n",
    "    numpy.histogram(a, bins, normed)\n",
    "\n",
    "que calcula el número de datos [n1,n2,n3,...] que caen dentro de las clases definidas en la variable bins. Por ejemplo, para bins=[21, 22, 23, 24, 25,...] n1 define la frecuencia de valores contenida en el rango [2¹,2²), n2 define la frecuencia de valores contenida en el rango [2²,2³), y así sucesivamente. Después se puede dibujar un diagrama de barras para representar el histograma mediante la función:\n",
    "\n",
    "    matplotlib.pyplot.bar(left, height, width)\n",
    "\n",
    "donde podemos utilizar anchos para las barras variables mediante el argumento width para representar las clases variables logarítmicas.\n",
    "\n",
    "### 3.4. Estimación parámetro de power Law\n",
    "\n",
    "Nos interesa calcular el parámetro de power law. Es decir, suponemos que la distribución de grado responde a la siguiente función:\n",
    "\n",
    "    pk ~ k^(-a)\n",
    "\n",
    "donde el parámetro alfa define la power law. La forma más sencilla es ajustar un modelo de regresión lineal a los datos (transformados logarítmicamente), el parámetro de pendiente corresponderá al parámetro alfa de la power law:\n",
    "\n",
    "    ln pk = -a ln k + c\n",
    "\n",
    "Para ello podemos emplear la función:\n",
    "\n",
    "    scipy.stats.linregress(x, y)\n",
    "\n",
    "que calcula un modelo de regresión lineal, y nos devuelve los parámetros de la recta estimada, así como algunos estadísticos como el R2 o el p-valor del contraste de hipótesis de pendiente nula.\n",
    "\n",
    "Estime el coeficiente α de la distribución de potencia (power law) que mejor se ajusta a la distribución de grado de la red, y muestre el valor de R^2 del ajuste y el p-valor.\n",
    "\n",
    "### 3.5. Estimación mediante distribución acumulada\n",
    "\n",
    "Otro método para calcular el parámetro de power law utiliza la distribución acumulada (Newman, 2010). Se define la función de distribución de grado acumulada como:\n",
    "\n",
    "Dada una red, Pk se puede calcular como la suma de todos los nodos con grado mayor o igual a k, dividida por el número de nodos N. Una forma muy sencilla de obtener esta distribución es la siguiente, que no requiere calcular el tamaño de las clases de un histograma. Por ejemplo, para la red de ejemplo 1: \n",
    "\n",
    "* ordenamos de forma decreciente los grados de todos los nodos, \n",
    "* añadimos una columna de ranking del nodo en dicha ordenación, \n",
    "* y finalmente dividimos cada valor de ranking por el número total de nodos:\n",
    "\n",
    "Para la red de routers, podemos  ajustar un modelo de regresión lineal a los datos (transformados logarítmicamente). En este caso el parámetro de pendiente del modelo está relacionado con el parámetro alfa de power law de la siguiente forma:\n",
    "\n",
    "pendiente=-+1\n",
    "\n",
    "Ya que al ser la función acumulada de una ley de potencia, el exponente responde a la fórmula:\n",
    "\n",
    "    pk ~ k^(-a + 1)\n",
    "\n",
    "Estime el coeficiente α de la distribución de potencia (power law) de acuerdo a este método, y muestre el valor de R2 del ajuste. Compare los resultados con los valores obtenidos anteriormente.\n"
   ]
  },
  {
   "cell_type": "code",
   "execution_count": 21,
   "metadata": {},
   "outputs": [],
   "source": [
    "#Imports\n",
    "import networkx as nx\n",
    "import numpy as np # librería de computación numérica\n",
    "import matplotlib.pyplot as plt\n",
    "import scipy.stats"
   ]
  },
  {
   "cell_type": "markdown",
   "metadata": {},
   "source": [
    "### 3.1. Estadísticas\n"
   ]
  },
  {
   "cell_type": "code",
   "execution_count": 3,
   "metadata": {},
   "outputs": [],
   "source": [
    "#Funcion para calcular las estadísticas de un grafo\n",
    "\n",
    "def calculoEstadisticas (G):\n",
    "    # Número de nodos\n",
    "    num_nodos = G.number_of_nodes()\n",
    "\n",
    "    # Número de enlaces\n",
    "    num_enlaces = G.number_of_edges()\n",
    "\n",
    "    # Grado medio\n",
    "    grado_medio = sum(dict(G.degree()).values()) / num_nodos\n",
    "\n",
    "    # Grado máximo\n",
    "    grado_max = max(dict(G.degree()).values())\n",
    "\n",
    "    # Grado mínimo\n",
    "    grado_min = min(dict(G.degree()).values())\n",
    "\n",
    "    print(\"Número de nodos:\", num_nodos)\n",
    "    print(\"Número de enlaces:\", num_enlaces)\n",
    "    print(\"Grado medio:\", grado_medio)\n",
    "    print(\"Grado máximo:\", grado_max)\n",
    "    print(\"Grado mínimo:\", grado_min)"
   ]
  },
  {
   "cell_type": "code",
   "execution_count": 8,
   "metadata": {},
   "outputs": [
    {
     "name": "stdout",
     "output_type": "stream",
     "text": [
      "Número de nodos: 22963\n",
      "Número de enlaces: 48436\n",
      "Grado medio: 4.218612550624918\n",
      "Grado máximo: 2390\n",
      "Grado mínimo: 1\n"
     ]
    }
   ],
   "source": [
    "G = nx.read_gexf(\"internet_routers-22july06-2.gexf\")\n",
    "calculoEstadisticas(G)"
   ]
  },
  {
   "cell_type": "markdown",
   "metadata": {},
   "source": [
    "### 3.2. Histograma"
   ]
  },
  {
   "cell_type": "markdown",
   "metadata": {},
   "source": [
    "# NO ESTOY SEGURO DE QUE ESTE BIEN"
   ]
  },
  {
   "cell_type": "code",
   "execution_count": 15,
   "metadata": {},
   "outputs": [
    {
     "data": {
      "image/png": "[encoded data removed]",
      "text/plain": [
       "<Figure size 640x480 with 1 Axes>"
      ]
     },
     "metadata": {},
     "output_type": "display_data"
    }
   ],
   "source": [
    "# Se obtienen los grados de todos los nodos en la red\n",
    "grados = [grado for nodo, grado in G.degree()]\n",
    "\n",
    "# Dibujamos el histograma\n",
    "plt.hist(grados, bins=50, density=True)\n",
    "\n",
    "# Cambiamos la escala de los ejes a logarítmica\n",
    "plt.yscale('log')\n",
    "plt.xscale('log')\n",
    "\n",
    "# Etiquetas y título\n",
    "plt.xlabel('Grado')\n",
    "plt.ylabel('Probabilidad')\n",
    "plt.title('Distribución de grado')\n",
    "\n",
    "# Se muestra el gráfico\n",
    "plt.show()"
   ]
  },
  {
   "cell_type": "markdown",
   "metadata": {},
   "source": [
    "### 3.3. Histograma con clase variable logarítmica"
   ]
  },
  {
   "cell_type": "code",
   "execution_count": 18,
   "metadata": {},
   "outputs": [
    {
     "data": {
      "image/png": "[encoded data removed]",
      "text/plain": [
       "<Figure size 640x480 with 1 Axes>"
      ]
     },
     "metadata": {},
     "output_type": "display_data"
    }
   ],
   "source": [
    "# Obtenemos los grados de todos los nodos en la red\n",
    "grados = [grado for nodo, grado in G.degree()]\n",
    "\n",
    "# Definimos las clases en una escala logarítmica\n",
    "bins = 2**np.arange(1, np.log2(np.max(grados)))\n",
    "\n",
    "# Calculamos las frecuencias\n",
    "frecuencias, bins = np.histogram(grados, bins=bins, density=True)\n",
    "\n",
    "# Calculamos los anchos de las barras para representar las clases variables logarítmicas\n",
    "widths = bins[1:] - bins[:-1]\n",
    "\n",
    "# Dibujamos el histograma\n",
    "plt.bar(bins[:-1], frecuencias, width=widths)\n",
    "\n",
    "# Cambiamos la escala de los ejes a logarítmica\n",
    "plt.yscale('log')\n",
    "plt.xscale('log')\n",
    "\n",
    "# Etiquetas y título\n",
    "plt.xlabel('Grado')\n",
    "plt.ylabel('Probabilidad')\n",
    "plt.title('Distribución de grado con clases logarítmicas')\n",
    "\n",
    "# Muestra el gráfico\n",
    "plt.show()"
   ]
  },
  {
   "cell_type": "markdown",
   "metadata": {},
   "source": [
    "### 3.4. Estimación parámetro de power law"
   ]
  },
  {
   "cell_type": "code",
   "execution_count": 23,
   "metadata": {},
   "outputs": [
    {
     "name": "stdout",
     "output_type": "stream",
     "text": [
      "Coeficiente α: 4.650311942850657\n",
      "Valor de R^2: 0.5637891220547447\n",
      "P-valor: 3.386311026412158e-10\n"
     ]
    }
   ],
   "source": [
    "# Calculamos los logaritmos de los grados y las frecuencias\n",
    "log_bins = np.log(bins[1:])\n",
    "log_frecuencias = np.log(frecuencias + 1e-10)  # Agrega un pequeño valor para evitar tomar el logaritmo de cero\n",
    "\n",
    "# Calculamos la regresión lineal\n",
    "slope, intercept, r_value, p_value, std_err = scipy.stats.linregress(log_bins, log_frecuencias)\n",
    "\n",
    "# Imprimimos los resultados\n",
    "print(f\"Coeficiente α: {-slope}\")\n",
    "print(f\"Valor de R^2: {r_value**2}\")\n",
    "print(f\"P-valor: {p_value}\")"
   ]
  },
  {
   "cell_type": "markdown",
   "metadata": {},
   "source": [
    "### 3.5. Estimacion mediante distribución acumulada"
   ]
  },
  {
   "cell_type": "code",
   "execution_count": 24,
   "metadata": {},
   "outputs": [
    {
     "name": "stdout",
     "output_type": "stream",
     "text": [
      "Coeficiente α: 2.2643462481003196\n",
      "Valor de R^2: 0.9359490541967527\n",
      "P-valor: 0.0\n"
     ]
    }
   ],
   "source": [
    "# Obtenemos los grados de todos los nodos en la red\n",
    "grados = [grado for nodo, grado in G.degree()]\n",
    "\n",
    "# Ordenamos los grados de forma decreciente\n",
    "grados.sort(reverse=True)\n",
    "\n",
    "# Añadimos una columna de ranking del nodo en dicha ordenación\n",
    "ranking = np.arange(len(grados)) + 1\n",
    "\n",
    "# Dividimos cada valor de ranking por el número total de nodos\n",
    "Pk = ranking / len(grados)\n",
    "\n",
    "# Calculamos los logaritmos de los grados y Pk\n",
    "log_grados = np.log(grados)\n",
    "log_Pk = np.log(Pk)\n",
    "\n",
    "# Calculamos la regresión lineal\n",
    "slope, intercept, r_value, p_value, std_err = scipy.stats.linregress(log_grados, log_Pk)\n",
    "\n",
    "# Imprimimos los resultados\n",
    "print(f\"Coeficiente α: {-slope + 1}\")\n",
    "print(f\"Valor de R^2: {r_value**2}\")\n",
    "print(f\"P-valor: {p_value}\")"
   ]
  }
 ],
 "metadata": {
  "kernelspec": {
   "display_name": "Python 3",
   "language": "python",
   "name": "python3"
  },
  "language_info": {
   "codemirror_mode": {
    "name": "ipython",
    "version": 3
   },
   "file_extension": ".py",
   "mimetype": "text/x-python",
   "name": "python",
   "nbconvert_exporter": "python",
   "pygments_lexer": "ipython3",
   "version": "3.11.8"
  }
 },
 "nbformat": 4,
 "nbformat_minor": 2
}
