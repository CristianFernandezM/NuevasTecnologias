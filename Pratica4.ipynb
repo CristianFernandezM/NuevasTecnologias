{
 "cells": [
  {
   "cell_type": "markdown",
   "metadata": {},
   "source": [
    "# Práctica 4 - Simulación de estrategias de Vacunación\n",
    "## Introducción\n",
    "La red de la figura representa una red de contactos sexuales de un grupo de personas. \n",
    "\n",
    "Se quiere reducir la transmisión de una enfermedad mediante vacunación. Suponer que cuando un individuo se vacuna, se impide cualquier contagio a través de sus relaciones directas. Así, definimos el **número de relaciones inmunizadas del nodo i** como el número de vecinos de i:\n",
    "\n",
    "Suponer que se dispone de una sola vacuna, con la que se pretende maximizar el número de relaciones inmunizadas.\n",
    "\n",
    "## Objetivo\n",
    "\n",
    "Resolver las siguientes cuestiones:\n",
    "\n",
    "1. Si se conoce a priori la red de contactos ¿a qué persona escogería? ¿por qué?\n",
    "\n",
    "2. Suponer que desconoce la red de contactos. Sigue una estrategia de vacunación que llama aleatoria y que consiste en escoger un individuo al azar y vacunarlo. Programe un pequeño script en python que simule esta estrategia un número de T veces en la red de contactos propuesta y calcule el número de relaciones inmunizadas esperado:\n",
    "\n",
    "3. Suponer que al igual que antes desconoce la red de contactos. Ahora sigue una estrategia de vacunación que llama aleatoria indirecta y que consiste en escoger a un individuo al azar y después vacunar a uno de sus vecinos también escogido aleatoriamente. Programe un pequeño script en python que simule esta estrategia un número de T veces en la red de contactos propuesta y calcule el número de relaciones inmunizadas esperado.\n",
    "\n",
    "4. ¿Cuál de las dos estrategias parece ser mejor? ¿Por qué? \n",
    "\n",
    "5. Implemente una función en python que dada una red (por ejemplo la red de contactos propuesta inicialmente) calcule el valor esperado del número de relaciones inmunizadas esperadas para la vacunación aleatoria. Piense en la relación que existe entre la distribución del grado de los nodos y su valor medio con el número de relaciones inmunizadas esperado de la estrategia de vacunación aleatoria. Compare este valor con el obtenido mediante simulación.\n",
    "\n",
    "6. Implemente una función en python que dada una red (por ejemplo la red de contactos propuesta inicialmente) calcule el valor esperado del número de relaciones inmunizadas para la vacunación aleatoria indirecta. Compare este valor con el obtenido mediante simulación.\n"
   ]
  },
  {
   "cell_type": "code",
   "execution_count": 23,
   "metadata": {},
   "outputs": [],
   "source": [
    "#Imports necesarios\n",
    "import numpy as np\n",
    "import networkx as nx\n",
    "import matplotlib.pyplot as plt"
   ]
  },
  {
   "cell_type": "markdown",
   "metadata": {},
   "source": [
    "### Creación de la red"
   ]
  },
  {
   "cell_type": "code",
   "execution_count": 24,
   "metadata": {},
   "outputs": [
    {
     "data": {
      "image/png": "[encoded data removed]",
      "text/plain": [
       "<Figure size 640x480 with 1 Axes>"
      ]
     },
     "metadata": {},
     "output_type": "display_data"
    }
   ],
   "source": [
    "#Creamos la red\n",
    "G = nx.Graph()\n",
    "\n",
    "#Añadimos los nodos\n",
    "G.add_node(1)\n",
    "G.add_node(2)\n",
    "G.add_node(3)\n",
    "G.add_node(4)\n",
    "G.add_node(5)\n",
    "G.add_node(6)\n",
    "G.add_node(7)\n",
    "G.add_node(8)\n",
    "G.add_node(9)\n",
    "\n",
    "#Añadimos los enlaces\n",
    "G.add_edge(1,6)\n",
    "G.add_edge(1,5)\n",
    "G.add_edge(1,4)\n",
    "G.add_edge(1,2)\n",
    "G.add_edge(1,3)\n",
    "G.add_edge(2,3)\n",
    "G.add_edge(2,8)\n",
    "G.add_edge(2,9)\n",
    "G.add_edge(3,7)\n",
    "\n",
    "#Dibujamos la red\n",
    "pos = nx.spring_layout(G)\n",
    "nx.draw(G,pos, with_labels=True)\n",
    "plt.show()\n"
   ]
  },
  {
   "cell_type": "markdown",
   "metadata": {},
   "source": [
    "### Preguntas"
   ]
  },
  {
   "cell_type": "markdown",
   "metadata": {},
   "source": [
    "1. Si se conoce a priori la red de contactos ¿a qué persona escogería? ¿Por qué?\n",
    "\n",
    "    Escogería a la persona con mayor grado según el algoritmo de Erigenvector Centrality, porque como solo se dispone de una sola vacuna, el nodo más importante será aquel que tenga un mayor número de vínculos importantes.\n"
   ]
  },
  {
   "cell_type": "markdown",
   "metadata": {},
   "source": [
    "2. Suponer que desconoce la red de contactos. Sigue una estrategia de vacunación que llama aleatoria y que consiste en escoger un individuo al azar y vacunarlo. Programe un pequeño script en python que simule esta estrategia un número de T veces en la red de contactos propuesta y calcule el número de relaciones inmunizadas esperado"
   ]
  },
  {
   "cell_type": "code",
   "execution_count": 25,
   "metadata": {},
   "outputs": [],
   "source": [
    "#imports\n",
    "import random\n",
    "\n",
    "def estrategia_vacunacion_aleatoria(G,T):\n",
    "    '''\n",
    "    Esta funcion simula una estrategia de vacunacion aleatoria en una red G.\n",
    "    '''\n",
    "    sumGrados = 0\n",
    "    grados = [grado for nodo, grado in G.degree()]\n",
    "    listaGrado = sorted(grados)\n",
    "    n_nodos = G.number_of_nodes()\n",
    "    for i in range (T):\n",
    "        sumGrados += listaGrado[random.randint(0,8)] #Se obtiene el grado de forma aleatoria\n",
    "    \n",
    "    relaciones_esperadas = sum(grado / n_nodos for grado in grados)\n",
    "    media = sumGrados/T\n",
    "    print(\"Se ha simulado la estrategia aleatoria\", T, \"veces y se ha obtenido una media de \", media, \" relaciones inmunizadas\")\n",
    "    print(\"Se esperaban\", relaciones_esperadas, \"relaciones inmunizadas\")\n",
    "    "
   ]
  },
  {
   "cell_type": "code",
   "execution_count": 26,
   "metadata": {},
   "outputs": [
    {
     "name": "stdout",
     "output_type": "stream",
     "text": [
      "Se ha simulado la estrategia aleatoria 1000 veces y se ha obtenido una media de  2.006  relaciones inmunizadas\n",
      "Se esperaban 2.0 relaciones inmunizadas\n"
     ]
    }
   ],
   "source": [
    "#Ejecutamos el script para la red propuesta un numero T de veces\n",
    "T = 1000\n",
    "relaciones_inmunizadas = estrategia_vacunacion_aleatoria(G,T)"
   ]
  },
  {
   "cell_type": "markdown",
   "metadata": {},
   "source": [
    "3. Suponer que al igual que antes desconoce la red de contactos. Ahora sigue una estrategia de vacunación que llama aleatoria indirecta y que consiste en escoger a un individuo al azar y después vacunar a uno de sus vecinos también escogido aleatoriamente. Programe un pequeño script en python que simule esta estrategia un número de T veces en la red de contactos propuesta y calcule el número de relaciones inmunizadas esperado."
   ]
  },
  {
   "cell_type": "code",
   "execution_count": 34,
   "metadata": {},
   "outputs": [],
   "source": [
    "def estrategia_vacunacion_aleatoria_indirecta (G,T):\n",
    "    sumGrados = 0\n",
    "    # Crear una lista vacía para almacenar las listas de grados de vecinos\n",
    "    grados_vecinos = []\n",
    "\n",
    "    # Para cada nodo en la red\n",
    "    for nodo in G.nodes():\n",
    "        # Obtener los vecinos del nodo\n",
    "        vecinos = G.neighbors(nodo)\n",
    "        # Obtener los grados de los vecinos\n",
    "        grados = [G.degree(vecino) for vecino in vecinos]\n",
    "        # Añadir la lista de grados a la lista principal\n",
    "        grados_vecinos.append(grados)\n",
    "\n",
    "    for i in range (T):\n",
    "        vecinos = grados_vecinos[random.randint(0,8)] #Se obtiene la lista de vecinos y sus grado de forma aleatoria\n",
    "        sumGrados += vecinos[random.randint(0,len(vecinos)-1)]\n",
    "\n",
    "    # Calcular el número de nodos\n",
    "    num_nodos = G.number_of_nodes()\n",
    "\n",
    "    #Cambiar lo de abajo, tiene que dar alrededor de 3.7\n",
    "    # Calcular las relaciones esperadas\n",
    "    relaciones_esperadas = sum(sum(grado / num_nodos for grado in vecinos_grados) for vecinos_grados in grados_vecinos)\n",
    "\n",
    "    media=sumGrados/T\n",
    "    print(\"Se ha simulado la estrategia aleatoria\", T, \"veces y se ha obtenido una media de \", media, \" relaciones inmunizadas\")\n",
    "    print(f'Relaciones esperadas: {relaciones_esperadas}')\n"
   ]
  },
  {
   "cell_type": "code",
   "execution_count": 35,
   "metadata": {},
   "outputs": [
    {
     "name": "stdout",
     "output_type": "stream",
     "text": [
      "Se ha simulado la estrategia aleatoria 1000 veces y se ha obtenido una media de  3.754  relaciones inmunizadas\n",
      "Relaciones esperadas: 6.222222222222222\n"
     ]
    }
   ],
   "source": [
    "T=1000\n",
    "estrategia_vacunacion_aleatoria_indirecta(G,T)"
   ]
  }
 ],
 "metadata": {
  "kernelspec": {
   "display_name": "Python 3",
   "language": "python",
   "name": "python3"
  },
  "language_info": {
   "codemirror_mode": {
    "name": "ipython",
    "version": 3
   },
   "file_extension": ".py",
   "mimetype": "text/x-python",
   "name": "python",
   "nbconvert_exporter": "python",
   "pygments_lexer": "ipython3",
   "version": "3.11.8"
  }
 },
 "nbformat": 4,
 "nbformat_minor": 2
}
