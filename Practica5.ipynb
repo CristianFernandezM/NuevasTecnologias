{
 "cells": [
  {
   "cell_type": "markdown",
   "metadata": {},
   "source": [
    "# Práctica 5 - Medidas de Centralidad\n",
    "\n",
    "## Objetivo\n",
    "En esta práctica se proponen dos redes sociales para las que se pide realizar un análisis de centralidad de los nodos. El objetivo principal es escoger la medida, o medidas de centralidad más idóneas para explicar la importancia de los nodos en cada red.\n",
    "\n",
    "## 1 Red de football\n",
    "La red “football98.net” representa a los 22 equipos internacionales de football que participaron en el campeonato mundial de París de 1998. Existe un arco dirigido del país A al país B cuando algún jugador de la selección del país A juega el resto del año en las competiciones del país B; el peso del lado corresponde al número de jugadores que el país A “exporta” al país B. Haga un estudio de centralidad de los países utilizando aquellas métricas que considere oportunas. En cada una caso, dibuje la red modificando el tamaño y/o el color de los nodos de acuerdo al ranking establecido, y comente brevemente el resultado."
   ]
  },
  {
   "cell_type": "code",
   "execution_count": 40,
   "metadata": {},
   "outputs": [],
   "source": [
    "import numpy as np\n",
    "import matplotlib.pyplot as plt\n",
    "import networkx as nx\n",
    "\n",
    "import requests\n",
    "from io import StringIO"
   ]
  },
  {
   "cell_type": "markdown",
   "metadata": {},
   "source": [
    "Funcion que devuelve un grafo dirigido de 22 equipos de fútbol que participaron en el Campeonato Mundial de París de 1998.\n"
   ]
  },
  {
   "cell_type": "code",
   "execution_count": 41,
   "metadata": {},
   "outputs": [],
   "source": [
    "# Carga la red desde el archivo descargado\n",
    "G = nx.read_pajek('football.net')\n",
    "\n",
    "# Convierte la red a un DiGraph\n",
    "G = nx.DiGraph(G)"
   ]
  },
  {
   "cell_type": "code",
   "execution_count": null,
   "metadata": {},
   "outputs": [],
   "source": []
  }
 ],
 "metadata": {
  "kernelspec": {
   "display_name": "base",
   "language": "python",
   "name": "python3"
  },
  "language_info": {
   "codemirror_mode": {
    "name": "ipython",
    "version": 3
   },
   "file_extension": ".py",
   "mimetype": "text/x-python",
   "name": "python",
   "nbconvert_exporter": "python",
   "pygments_lexer": "ipython3",
   "version": "3.9.12"
  }
 },
 "nbformat": 4,
 "nbformat_minor": 2
}
