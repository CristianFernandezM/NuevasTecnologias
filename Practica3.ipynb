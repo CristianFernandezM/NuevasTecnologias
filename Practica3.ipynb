{
 "cells": [
  {
   "cell_type": "markdown",
   "metadata": {},
   "source": [
    "# Practica 3 - Red aleatoria y camino mas corto\n",
    "## Objetivo\n",
    "El objetivo principal de esta práctica es implementar una función en python que genere una red aleatoria no dirigida. La función tendrá como argumentos de entrada:\n",
    "\n",
    "- N: número de nodos\n",
    "\n",
    "- P: probabilidad de que el par de nodos (i,j) tenga un enlace\n",
    "\n",
    "Y como salida:\n",
    "\n",
    "- Un objeto Graph con la red correspondiente\n",
    "- El algoritmo de construcción de la red es el siguiente: \n",
    "- Construir una red no dirigida de N nodos y enlaces aleatorios tales que la probabilidad de que un enlace una dos nodos cualesquiera (i,j) sea igual a P para todo los pares de nodos (i.e. para cada par de nodos generamos un número aleatorio entre [0,1] y si es menor que la probabilidad P creamos el enlace). No se permiten enlaces múltiples.\n",
    "\n",
    "Una vez implementada la función:\n",
    "\n",
    "- Para una red generada con N=100 y P=0.01:\n",
    "\n",
    "    - Mostrar gráficamente la matriz de adyacencia (ver función matshow en ayuda).\n",
    "    - Calcular el número de enlaces; comparar este valor con el valor esperado del número de enlaces.\n",
    "    - Calcular el grado medio de la red.\n",
    "    - Visualizar la red utilizando un layout circular\n",
    "- Para una red generada con N=100 y P=0.1:\n",
    "    - Calcular el número de enlaces; comparar este valor con el valor esperado del número de enlaces.\n",
    "    - Calcular el grado medio de la red.\n",
    "    - Calcular el camino más corto entre un par de nodos U y V (variables libremente escogidas por uno mismo)\n",
    "    - Visualizar la red y el camino más corto calculado anteriormente\n"
   ]
  }
 ],
 "metadata": {
  "kernelspec": {
   "display_name": "Python 3",
   "language": "python",
   "name": "python3"
  },
  "language_info": {
   "name": "python",
   "version": "3.11.8"
  }
 },
 "nbformat": 4,
 "nbformat_minor": 2
}
