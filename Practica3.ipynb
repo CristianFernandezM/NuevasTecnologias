{
 "cells": [
  {
   "cell_type": "markdown",
   "metadata": {},
   "source": [
    "# Practica 3 - Red aleatoria y camino mas corto\n",
    "## Objetivo\n",
    "El objetivo principal de esta práctica es implementar una función en python que genere una red aleatoria no dirigida. La función tendrá como argumentos de entrada:\n",
    "\n",
    "- N: número de nodos\n",
    "\n",
    "- P: probabilidad de que el par de nodos (i,j) tenga un enlace\n",
    "\n",
    "Y como salida:\n",
    "\n",
    "- Un objeto Graph con la red correspondiente\n",
    "- El algoritmo de construcción de la red es el siguiente: \n",
    "- Construir una red no dirigida de N nodos y enlaces aleatorios tales que la probabilidad de que un enlace una dos nodos cualesquiera (i,j) sea igual a P para todo los pares de nodos (i.e. para cada par de nodos generamos un número aleatorio entre [0,1] y si es menor que la probabilidad P creamos el enlace). No se permiten enlaces múltiples.\n",
    "\n",
    "Una vez implementada la función:\n",
    "\n",
    "- Para una red generada con N=100 y P=0.01:\n",
    "\n",
    "    - Mostrar gráficamente la matriz de adyacencia (ver función matshow en ayuda).\n",
    "    - Calcular el número de enlaces; comparar este valor con el valor esperado del número de enlaces.\n",
    "    - Calcular el grado medio de la red.\n",
    "    - Visualizar la red utilizando un layout circular\n",
    "- Para una red generada con N=100 y P=0.1:\n",
    "    - Calcular el número de enlaces; comparar este valor con el valor esperado del número de enlaces.\n",
    "    - Calcular el grado medio de la red.\n",
    "    - Calcular el camino más corto entre un par de nodos U y V (variables libremente escogidas por uno mismo)\n",
    "    - Visualizar la red y el camino más corto calculado anteriormente\n"
   ]
  },
  {
   "cell_type": "code",
   "execution_count": 2,
   "metadata": {},
   "outputs": [],
   "source": [
    "#Imports necesarios\n",
    "import numpy as np\n",
    "import networkx as nx\n",
    "import matplotlib.pyplot as plt"
   ]
  },
  {
   "cell_type": "code",
   "execution_count": 3,
   "metadata": {},
   "outputs": [],
   "source": [
    "#Funcion de generacion de la red\n",
    "def net_generator(N,P):\n",
    "\n",
    "    #Objeto grafo\n",
    "    G = nx.Graph()\n",
    "\n",
    "    #Agregamos nodos\n",
    "    G.add_nodes_from(range(N))\n",
    "\n",
    "    #Agragamos enlaces\n",
    "    for i in range(N):\n",
    "        for j in range(i+1,N):\n",
    "            if np.random.rand() < P:\n",
    "                G.add_edge(i,j)\n",
    "    \n",
    "    return G\n"
   ]
  },
  {
   "cell_type": "markdown",
   "metadata": {},
   "source": [
    "### Para la red N = 100 y P = 0.01"
   ]
  },
  {
   "cell_type": "code",
   "execution_count": null,
   "metadata": {},
   "outputs": [],
   "source": []
  }
 ],
 "metadata": {
  "kernelspec": {
   "display_name": "Python 3",
   "language": "python",
   "name": "python3"
  },
  "language_info": {
   "codemirror_mode": {
    "name": "ipython",
    "version": 3
   },
   "file_extension": ".py",
   "mimetype": "text/x-python",
   "name": "python",
   "nbconvert_exporter": "python",
   "pygments_lexer": "ipython3",
   "version": "3.11.8"
  }
 },
 "nbformat": 4,
 "nbformat_minor": 2
}
